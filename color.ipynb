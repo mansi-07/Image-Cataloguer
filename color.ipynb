{
 "cells": [
  {
   "cell_type": "code",
   "execution_count": 27,
   "id": "6af4b265",
   "metadata": {},
   "outputs": [],
   "source": [
    "from __future__ import print_function"
   ]
  },
  {
   "cell_type": "code",
   "execution_count": 28,
   "id": "f0aac6be",
   "metadata": {},
   "outputs": [],
   "source": [
    "def colors():\n",
    "    import binascii\n",
    "    import struct\n",
    "    from PIL import Image\n",
    "    import numpy as np\n",
    "    import scipy\n",
    "    import scipy.misc\n",
    "    import scipy.cluster\n",
    "    from tensorflow.keras.preprocessing import image\n",
    "    import cv2\n",
    "    NUM_CLUSTERS = 10\n",
    "    \n",
    "    # print('reading image')\n",
    "    im=cv2.imread(r'C:\\Users\\Aneesh Kulkarni\\web_dev\\flask projects\\web page for yolo\\static\\input\\target.jpg') # CHANGE THIS\n",
    "    # im = im.resize((150, 150))   # optional, to reduce time\n",
    "    im = cv2.resize(im, (150,150), interpolation = cv2.INTER_AREA)\n",
    "    ar = np.asarray(im)\n",
    "    shape = ar.shape\n",
    "    ar = ar.reshape(np.product(shape[:2]), shape[2]).astype(float)\n",
    "\n",
    "    # print('finding clusters')\n",
    "    codes, dist = scipy.cluster.vq.kmeans(ar, NUM_CLUSTERS)\n",
    "    # print('cluster centres:\\n', codes)\n",
    "\n",
    "    vecs, dist = scipy.cluster.vq.vq(ar, codes)         # assign codes\n",
    "    counts, bins = np.histogram(vecs, len(codes))    # count occurrences\n",
    "\n",
    "    index_max = np.argmax(counts)                    # find most frequent\n",
    "    peak = codes[index_max]\n",
    "    colour = binascii.hexlify(bytearray(int(c) for c in peak)).decode('ascii')\n",
    "    # print('most frequent is %s (#%s)' % (peak, colour))\n",
    "    avg_count = counts/sum(counts)\n",
    "    avg_count\n",
    "    zip_iterator = zip(avg_count, codes)\n",
    "    a_dict = dict(zip_iterator)\n",
    "    sorted_dict = dict(sorted(a_dict.items(),reverse=True))\n",
    "    sorted_dict\n",
    "    \n",
    "    \n",
    "    from scipy.spatial import KDTree\n",
    "    from webcolors import CSS3_HEX_TO_NAMES, hex_to_rgb\n",
    "\n",
    "    def convert_rgb_to_names(rgb_tuple):\n",
    "    \n",
    "        # a dictionary of all the hex and their respective names in css3\n",
    "        css3_db = CSS3_HEX_TO_NAMES\n",
    "        names = []\n",
    "        rgb_values = []\n",
    "        for color_hex, color_name in css3_db.items():\n",
    "            names.append(color_name)\n",
    "            rgb_values.append(hex_to_rgb(color_hex))\n",
    "    \n",
    "        kdt_db = KDTree(rgb_values)\n",
    "        distance, index = kdt_db.query(rgb_tuple)\n",
    "        return f'{names[index]}'\n",
    "    \n",
    "    \n",
    "    closest_colors = []\n",
    "    for keys,values in sorted_dict.items():\n",
    "        rgb = [int(values[x]) for x in range(3)]\n",
    "        # print(\"Key : {}, RGB : {}, closest match: {}\".format(keys, rgb, convert_rgb_to_names(rgb)))\n",
    "        closest_colors.append(convert_rgb_to_names(rgb))\n",
    "    colors = [i for n, i in enumerate(closest_colors) if i not in closest_colors[:n]]\n",
    "\n",
    "    print(colors)\n",
    "\n",
    "    print('done')\n",
    "    "
   ]
  },
  {
   "cell_type": "code",
   "execution_count": 26,
   "id": "4d4126d8",
   "metadata": {},
   "outputs": [
    {
     "name": "stdout",
     "output_type": "stream",
     "text": [
      "['black', 'midnightblue', 'lightslategray', 'gainsboro', 'darkgray', 'darkslateblue', 'darkslategray', 'lightsteelblue', 'dimgray']\n",
      "done\n"
     ]
    }
   ],
   "source": [
    "colors()"
   ]
  }
 ],
 "metadata": {
  "kernelspec": {
   "display_name": "Python 3 (ipykernel)",
   "language": "python",
   "name": "python3"
  },
  "language_info": {
   "codemirror_mode": {
    "name": "ipython",
    "version": 3
   },
   "file_extension": ".py",
   "mimetype": "text/x-python",
   "name": "python",
   "nbconvert_exporter": "python",
   "pygments_lexer": "ipython3",
   "version": "3.9.7"
  }
 },
 "nbformat": 4,
 "nbformat_minor": 5
}
